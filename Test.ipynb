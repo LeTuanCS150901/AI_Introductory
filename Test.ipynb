{
  "nbformat": 4,
  "nbformat_minor": 0,
  "metadata": {
    "colab": {
      "name": "Test",
      "provenance": [],
      "collapsed_sections": [],
      "toc_visible": true,
      "authorship_tag": "ABX9TyOIZPOyOoedey1JEx8GQ6Fe",
      "include_colab_link": true
    },
    "kernelspec": {
      "name": "python3",
      "display_name": "Python 3"
    },
    "language_info": {
      "name": "python"
    },
    "accelerator": "TPU"
  },
  "cells": [
    {
      "cell_type": "markdown",
      "metadata": {
        "id": "view-in-github",
        "colab_type": "text"
      },
      "source": [
        "<a href=\"https://colab.research.google.com/github/LeTuanCS150901/AI_Introductory/blob/master/Test.ipynb\" target=\"_parent\"><img src=\"https://colab.research.google.com/assets/colab-badge.svg\" alt=\"Open In Colab\"/></a>"
      ]
    },
    {
      "cell_type": "code",
      "metadata": {
        "colab": {
          "base_uri": "https://localhost:8080/"
        },
        "id": "Jeiu2s7_HH0S",
        "outputId": "c727005a-09dc-4c91-d9e7-ce8a450aff9d"
      },
      "source": [
        "from google.colab import drive\n",
        "drive.mount(\"/content/drive\")\n"
      ],
      "execution_count": null,
      "outputs": [
        {
          "output_type": "stream",
          "text": [
            "Mounted at /content/drive\n"
          ],
          "name": "stdout"
        }
      ]
    },
    {
      "cell_type": "code",
      "metadata": {
        "colab": {
          "base_uri": "https://localhost:8080/"
        },
        "id": "2LaSHJvgpnhE",
        "outputId": "2444e8c9-e61d-4153-cfbc-b0f078d448a2"
      },
      "source": [
        "!git init"
      ],
      "execution_count": 214,
      "outputs": [
        {
          "output_type": "stream",
          "text": [
            "Initialized empty Git repository in /content/.git/\n"
          ],
          "name": "stdout"
        }
      ]
    },
    {
      "cell_type": "code",
      "metadata": {
        "colab": {
          "base_uri": "https://localhost:8080/",
          "height": 131
        },
        "id": "LPbH_PnVpqOC",
        "outputId": "de4043aa-6262-4138-d170-08292fef3376"
      },
      "source": [
        "git remote add https://github.com/LeTuanCS150901"
      ],
      "execution_count": 217,
      "outputs": [
        {
          "output_type": "error",
          "ename": "SyntaxError",
          "evalue": "ignored",
          "traceback": [
            "\u001b[0;36m  File \u001b[0;32m\"<ipython-input-217-a29113af3c3f>\"\u001b[0;36m, line \u001b[0;32m1\u001b[0m\n\u001b[0;31m    git remote add https://github.com/LeTuanCS150901\u001b[0m\n\u001b[0m             ^\u001b[0m\n\u001b[0;31mSyntaxError\u001b[0m\u001b[0;31m:\u001b[0m invalid syntax\n"
          ]
        }
      ]
    },
    {
      "cell_type": "code",
      "metadata": {
        "colab": {
          "base_uri": "https://localhost:8080/",
          "height": 35
        },
        "id": "YBmypSzmIaFx",
        "outputId": "72354c8d-bd70-4807-d55d-3efaa8316f2e"
      },
      "source": [
        "pwd"
      ],
      "execution_count": null,
      "outputs": [
        {
          "output_type": "execute_result",
          "data": {
            "application/vnd.google.colaboratory.intrinsic+json": {
              "type": "string"
            },
            "text/plain": [
              "'/content'"
            ]
          },
          "metadata": {
            "tags": []
          },
          "execution_count": 11
        }
      ]
    },
    {
      "cell_type": "code",
      "metadata": {
        "colab": {
          "base_uri": "https://localhost:8080/"
        },
        "id": "uOEQFH4AIb7R",
        "outputId": "b006430f-6a9a-4c36-ae5e-56cd3ad767c0"
      },
      "source": [
        "cd /content/drive/MyDrive/Test"
      ],
      "execution_count": null,
      "outputs": [
        {
          "output_type": "stream",
          "text": [
            "[Errno 2] No such file or directory: '/content/drive/MyDrive/Test'\n",
            "/content\n"
          ],
          "name": "stdout"
        }
      ]
    },
    {
      "cell_type": "code",
      "metadata": {
        "colab": {
          "base_uri": "https://localhost:8080/",
          "height": 35
        },
        "id": "HQ-3w2GVIoct",
        "outputId": "85d670bb-1624-4a88-8041-5717cbb11c8d"
      },
      "source": [
        "pwd"
      ],
      "execution_count": null,
      "outputs": [
        {
          "output_type": "execute_result",
          "data": {
            "application/vnd.google.colaboratory.intrinsic+json": {
              "type": "string"
            },
            "text/plain": [
              "'/content'"
            ]
          },
          "metadata": {
            "tags": []
          },
          "execution_count": 13
        }
      ]
    },
    {
      "cell_type": "code",
      "metadata": {
        "colab": {
          "base_uri": "https://localhost:8080/"
        },
        "id": "63MyCKGvIt2i",
        "outputId": "bcdc0746-daa4-496e-e3f3-4fda9f4ba386"
      },
      "source": [
        "ls"
      ],
      "execution_count": null,
      "outputs": [
        {
          "output_type": "stream",
          "text": [
            "\u001b[0m\u001b[01;34mdrive\u001b[0m/  \u001b[01;34msample_data\u001b[0m/\n"
          ],
          "name": "stdout"
        }
      ]
    },
    {
      "cell_type": "markdown",
      "metadata": {
        "id": "gxhA_ueV-Ryi"
      },
      "source": [
        "# I. Import data set and libraries needed\n"
      ]
    },
    {
      "cell_type": "code",
      "metadata": {
        "id": "RSzQDCgwI9cb"
      },
      "source": [
        "from keras.datasets import mnist\n",
        "import numpy as np\n",
        "import pandas as pd\n",
        "from matplotlib import pyplot as plt"
      ],
      "execution_count": 113,
      "outputs": []
    },
    {
      "cell_type": "code",
      "metadata": {
        "colab": {
          "base_uri": "https://localhost:8080/"
        },
        "id": "lwx14V9PJVIQ",
        "outputId": "1e138ade-ddef-45d1-8a00-ce043289c586"
      },
      "source": [
        "(train_X, train_y), (test_X, test_y) = mnist.load_data()\n",
        "train_X.shape"
      ],
      "execution_count": 114,
      "outputs": [
        {
          "output_type": "execute_result",
          "data": {
            "text/plain": [
              "(60000, 28, 28)"
            ]
          },
          "metadata": {
            "tags": []
          },
          "execution_count": 114
        }
      ]
    },
    {
      "cell_type": "markdown",
      "metadata": {
        "id": "GIDaTz5vs2sz"
      },
      "source": [
        "Hiển thị ảnh trong training set"
      ]
    },
    {
      "cell_type": "code",
      "metadata": {
        "colab": {
          "base_uri": "https://localhost:8080/",
          "height": 412
        },
        "id": "rt6OPCC-JJQW",
        "outputId": "c52d3d2e-c7a0-4861-aa46-bd771a9ce8ce"
      },
      "source": [
        "# Plotting\n",
        "fig = plt.figure(figsize=(10,7))\n",
        "for i in range(15):  \n",
        "    ax = fig.add_subplot(3, 5, i+1)\n",
        "    ax.imshow(train_X[i], cmap=plt.get_cmap('gray'))\n",
        "    ax.set_title('Label (y): {y}'.format(y=train_y[i]))\n",
        "    plt.axis('off')"
      ],
      "execution_count": 115,
      "outputs": [
        {
          "output_type": "display_data",
          "data": {
            "image/png": "[encoded data removed]",
            "text/plain": [
              "<Figure size 720x504 with 15 Axes>"
            ]
          },
          "metadata": {
            "tags": [],
            "needs_background": "light"
          }
        }
      ]
    },
    {
      "cell_type": "markdown",
      "metadata": {
        "id": "xVfyHAHlqe_D"
      },
      "source": [
        "Biến đổi ảnh từ không gian 3 chiều thành 2 chiều.\n",
        "Với rows là số lượng ảnh, columns là từng bức ảnh chiều 28x28"
      ]
    },
    {
      "cell_type": "code",
      "metadata": {
        "colab": {
          "base_uri": "https://localhost:8080/"
        },
        "id": "9Tl2246nJZW-",
        "outputId": "022336ff-3581-4b51-fea6-691f4896f97d"
      },
      "source": [
        "X_train = train_X.reshape(60000, 28*28)\n",
        "X_test = test_X.reshape(10000, 28*28)\n",
        "print(X_train.shape)\n",
        "print(X_test.shape)"
      ],
      "execution_count": 116,
      "outputs": [
        {
          "output_type": "stream",
          "text": [
            "(60000, 784)\n",
            "(10000, 784)\n"
          ],
          "name": "stdout"
        }
      ]
    },
    {
      "cell_type": "markdown",
      "metadata": {
        "id": "Gt3eqbL3sq_r"
      },
      "source": [
        "Kiểm tra tập labels training"
      ]
    },
    {
      "cell_type": "code",
      "metadata": {
        "colab": {
          "base_uri": "https://localhost:8080/"
        },
        "id": "09s1S7grJiYq",
        "outputId": "782dd424-b68e-4b78-cf28-cd8e2da0c95e"
      },
      "source": [
        "train_y"
      ],
      "execution_count": 117,
      "outputs": [
        {
          "output_type": "execute_result",
          "data": {
            "text/plain": [
              "array([5, 0, 4, ..., 5, 6, 8], dtype=uint8)"
            ]
          },
          "metadata": {
            "tags": []
          },
          "execution_count": 117
        }
      ]
    },
    {
      "cell_type": "markdown",
      "metadata": {
        "id": "32QhSDNds__-"
      },
      "source": [
        "Chuyển tập labels training về dạng one-hot vecto có số chiều (num_examples x num_classes)\n"
      ]
    },
    {
      "cell_type": "code",
      "metadata": {
        "id": "QRqdL6jDJoHr"
      },
      "source": [
        "def one_hot(y, c):\n",
        "  \"\"\"\n",
        "  y: labels of training set\n",
        "  c: the number of classes (from 0 to 9)\n",
        "   \n",
        "  \"\"\"\n",
        "  m = len(y) # number of training examples\n",
        "  \n",
        "  y_hot = np.zeros((m, c))  # A zero matrix of size (num_examples, classes)\n",
        "    \n",
        "  # Putting 1 for column where the label is,\n",
        "  # Using multidimensional indexing.\n",
        "  y_hot[np.arange(len(y)), y] = 1\n",
        "    \n",
        "  return y_hot"
      ],
      "execution_count": 118,
      "outputs": []
    },
    {
      "cell_type": "markdown",
      "metadata": {
        "id": "imKYSY5l-hBj"
      },
      "source": [
        "# II. Learning algorithm "
      ]
    },
    {
      "cell_type": "markdown",
      "metadata": {
        "id": "l5HW8tRmPFHy"
      },
      "source": [
        "## Part 1: The gradient of the loss function"
      ]
    },
    {
      "cell_type": "markdown",
      "metadata": {
        "id": "3N3nZkbz1nZP"
      },
      "source": [
        "![theGradientOfLossFunction.PNG](data:image/png;base64,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)"
      ]
    },
    {
      "cell_type": "markdown",
      "metadata": {
        "id": "3AAO4IwfyM7q"
      },
      "source": [
        "Compute the gradient of a single example given parameters W."
      ]
    },
    {
      "cell_type": "code",
      "metadata": {
        "id": "bp8FYK2zuL4d"
      },
      "source": [
        "def multinomial_logreg_grad_i(X, W, y_hot):\n",
        "\n",
        "   z = X @ W # hypothesis function \n",
        "   y_predict = softmax(z)\n",
        "   #print(\"y_predict grad\", y_predict)\n",
        "\n",
        "   weight_gradient = np.dot(X.T, (y_predict - y_hot) )\n",
        "\n",
        "   return weight_gradient "
      ],
      "execution_count": 148,
      "outputs": []
    },
    {
      "cell_type": "markdown",
      "metadata": {
        "id": "F9Pd6JRVxbNy"
      },
      "source": [
        "![cross_entropy.png](data:image/png;base64,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)"
      ]
    },
    {
      "cell_type": "markdown",
      "metadata": {
        "id": "Cesft54XyF7v"
      },
      "source": [
        "Compute the loss of a single example given parameters W"
      ]
    },
    {
      "cell_type": "code",
      "metadata": {
        "id": "-sjK80Nl5Qgp"
      },
      "source": [
        "def multinomial_logreg_loss_i(X, W, y_hot):\n",
        "    \"\"\"\n",
        "    Return the cross-entropy of vectors y labels and softmax.\n",
        "    param y_hot: one-hot vector encoding correct class \n",
        "    returns: vecto cost\n",
        "\n",
        "    \"\"\"\n",
        "    z = X @ W # hypothesis function \n",
        "    y_predict = softmax(z) \n",
        "    \n",
        "    return -np.log( y_predict[ np.where(y_hot) ] )"
      ],
      "execution_count": 147,
      "outputs": []
    },
    {
      "cell_type": "markdown",
      "metadata": {
        "id": "lWNo8mb017Z9"
      },
      "source": [
        "![soft_max.png](data:image/png;base64,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)"
      ]
    },
    {
      "cell_type": "code",
      "metadata": {
        "id": "S_FimkSiJrUI"
      },
      "source": [
        "def softmax(z):\n",
        "  \"\"\"\n",
        "  z: hypothesis function X @ W\n",
        "  \"\"\"\n",
        "  exp = np.exp(z - np.max(z))  # Subtracting the max of z for numerical stability.\n",
        "\n",
        "  for i in range(len(z)):   # Calculating softmax for all examples.\n",
        "      exp[i] /= np.sum(exp[i])\n",
        "        \n",
        "  return exp"
      ],
      "execution_count": 146,
      "outputs": []
    },
    {
      "cell_type": "markdown",
      "metadata": {
        "id": "mC2sSESuxQhG"
      },
      "source": [
        "## Part 2: Gradient descent"
      ]
    },
    {
      "cell_type": "markdown",
      "metadata": {
        "id": "x1CFfbNQ0wRe"
      },
      "source": [
        "![gradient_descent.PNG](data:image/png;base64,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)"
      ]
    },
    {
      "cell_type": "code",
      "metadata": {
        "id": "j1TEcSX9Jt9D"
      },
      "source": [
        "def multinomial_logreg_total_grad(X, W, y_hot, learning_rate, lam_da, iterations):\n",
        "\n",
        "    J_history = []\n",
        "    \n",
        "    for i in range(iterations):\n",
        "      total_loss = 1/m * sum( multinomial_logreg_loss_i(X, W, y_hot) )\n",
        "      print(\"total loss \", i + 1 , total_loss)\n",
        "\n",
        "      grad =  multinomial_logreg_grad_i(X, W, y_hot)\n",
        "      #print(\"gradient \", i, grad )\n",
        "\n",
        "      W = W - 1/m * learning_rate * (grad + (lam_da/2 * np.linalg.norm(W)) )\n",
        "      #print(\"Weight \", i, W)\n",
        "\n",
        "      if i % 10 == 0:\n",
        "        J_history.append(total_loss)\n",
        "\n",
        "    return (W, J_history)\n",
        "      "
      ],
      "execution_count": 157,
      "outputs": []
    },
    {
      "cell_type": "code",
      "metadata": {
        "colab": {
          "base_uri": "https://localhost:8080/"
        },
        "id": "spO2AucX2IZM",
        "outputId": "d56657ea-d260-473b-cc96-1ddbe1ba4911"
      },
      "source": [
        "W_optimal, J_history = multinomial_logreg_total_grad(X, W, y_hot, learning_rate, lam_da, iterations)"
      ],
      "execution_count": 158,
      "outputs": [
        {
          "output_type": "stream",
          "text": [
            "total loss  1 2.3025850929954172\n",
            "total loss  2 1.5081517762269407\n",
            "total loss  3 1.387588250598809\n",
            "total loss  4 1.5788610352243049\n",
            "total loss  5 1.7068615262517555\n",
            "total loss  6 1.1937221169751224\n",
            "total loss  7 1.3950927196670035\n",
            "total loss  8 1.2902213876484692\n",
            "total loss  9 0.8918986803106821\n",
            "total loss  10 0.9345201065204366\n",
            "total loss  11 1.1079687129972364\n",
            "total loss  12 0.9064703225255646\n",
            "total loss  13 0.7855300614078387\n",
            "total loss  14 0.6862990392790775\n",
            "total loss  15 0.6656184430633579\n",
            "total loss  16 0.685312286374548\n",
            "total loss  17 0.6233974254220086\n",
            "total loss  18 0.5922536442363202\n",
            "total loss  19 0.6035769453036075\n",
            "total loss  20 0.6140151164113565\n",
            "total loss  21 0.6125729716451912\n",
            "total loss  22 0.6444846472949143\n",
            "total loss  23 0.5824612573783337\n",
            "total loss  24 0.5905551689314583\n",
            "total loss  25 0.5424875557338854\n",
            "total loss  26 0.539017710607912\n",
            "total loss  27 0.5068556523750082\n",
            "total loss  28 0.4982504370415059\n",
            "total loss  29 0.4766833073754563\n",
            "total loss  30 0.4669568436779804\n",
            "total loss  31 0.45292481592307293\n",
            "total loss  32 0.44456535770178435\n",
            "total loss  33 0.4356414535274541\n",
            "total loss  34 0.42935306323036143\n",
            "total loss  35 0.4235783336216119\n",
            "total loss  36 0.4190274542130118\n",
            "total loss  37 0.4150563569037966\n",
            "total loss  38 0.411680812323524\n",
            "total loss  39 0.40872171034343374\n",
            "total loss  40 0.40607900201891395\n",
            "total loss  41 0.40370295715562454\n",
            "total loss  42 0.40151329050861445\n",
            "total loss  43 0.399492688303386\n",
            "total loss  44 0.3975931255665292\n",
            "total loss  45 0.39580528612476756\n",
            "total loss  46 0.394102905100909\n",
            "total loss  47 0.3924793492850354\n",
            "total loss  48 0.39092044265216264\n",
            "total loss  49 0.38942114838066394\n",
            "total loss  50 0.3879735592585212\n",
            "total loss  51 0.3865738617537488\n",
            "total loss  52 0.3852173502672657\n",
            "total loss  53 0.38390114257114943\n",
            "total loss  54 0.3826221974489739\n",
            "total loss  55 0.3813783074711049\n",
            "total loss  56 0.38016733340780695\n",
            "total loss  57 0.37898754106457877\n",
            "total loss  58 0.3778373097716613\n",
            "total loss  59 0.3767152346254456\n",
            "total loss  60 0.3756200147622308\n",
            "total loss  61 0.37455047776860284\n",
            "total loss  62 0.37350553522969043\n",
            "total loss  63 0.3724841840737595\n",
            "total loss  64 0.37148548742833193\n",
            "total loss  65 0.3705085705832153\n",
            "total loss  66 0.3695526116687427\n",
            "total loss  67 0.36861683728760497\n",
            "total loss  68 0.36770051725450936\n",
            "total loss  69 0.3668029609937113\n",
            "total loss  70 0.36592351412668656\n",
            "total loss  71 0.36506155565712667\n",
            "total loss  72 0.3642164955051319\n",
            "total loss  73 0.36338777229523195\n",
            "total loss  74 0.362574851439344\n",
            "total loss  75 0.36177722335875434\n",
            "total loss  76 0.3609944019234698\n",
            "total loss  77 0.36022592298874534\n",
            "total loss  78 0.3594713430883865\n",
            "total loss  79 0.3587302382066095\n",
            "total loss  80 0.3580022026651074\n",
            "total loss  81 0.35728684807747985\n",
            "total loss  82 0.35658380239099585\n",
            "total loss  83 0.35589270898716774\n",
            "total loss  84 0.35521322585077575\n",
            "total loss  85 0.3545450247901675\n",
            "total loss  86 0.35388779071280463\n",
            "total loss  87 0.35324122094538735\n",
            "total loss  88 0.35260502459952703\n",
            "total loss  89 0.35197892197615954\n",
            "total loss  90 0.3513626440079971\n",
            "total loss  91 0.3507559317356789\n",
            "total loss  92 0.35015853581612477\n",
            "total loss  93 0.3495702160600588\n",
            "total loss  94 0.3489907409971198\n",
            "total loss  95 0.34841988746625624\n",
            "total loss  96 0.3478574402299114\n",
            "total loss  97 0.34730319161011614\n",
            "total loss  98 0.346756941145279\n",
            "total loss  99 0.346218495265987\n",
            "total loss  100 0.3456876669887807\n",
            "total loss  101 0.3451642756266559\n",
            "total loss  102 0.3446481465151364\n",
            "total loss  103 0.34413911075302794\n",
            "total loss  104 0.3436370049568782\n",
            "total loss  105 0.34314167102825227\n",
            "total loss  106 0.3426529559330469\n",
            "total loss  107 0.3421707114921803\n",
            "total loss  108 0.3416947941827953\n",
            "total loss  109 0.3412250649495309\n",
            "total loss  110 0.3407613890251413\n",
            "total loss  111 0.3403036357599439\n",
            "total loss  112 0.33985167845960484\n",
            "total loss  113 0.3394053942307302\n",
            "total loss  114 0.3389646638338819\n",
            "total loss  115 0.3385293715435291\n",
            "total loss  116 0.3380994050145816\n",
            "total loss  117 0.33767465515515815\n",
            "total loss  118 0.3372550160051995\n",
            "total loss  119 0.33684038462062105\n",
            "total loss  120 0.33643066096274393\n",
            "total loss  121 0.3360257477926578\n",
            "total loss  122 0.3356255505703208\n",
            "total loss  123 0.3352299773580772\n",
            "total loss  124 0.33483893872842535\n",
            "total loss  125 0.3344523476757633\n",
            "total loss  126 0.33407011953196003\n",
            "total loss  127 0.33369217188549727\n",
            "total loss  128 0.3333184245040418\n",
            "total loss  129 0.33294879926031595\n",
            "total loss  130 0.3325832200609649\n",
            "total loss  131 0.3322216127784362\n",
            "total loss  132 0.3318639051856517\n",
            "total loss  133 0.3315100268932607\n",
            "total loss  134 0.3311599092895025\n",
            "total loss  135 0.330813485482443\n",
            "total loss  136 0.3304706902445404\n",
            "total loss  137 0.3301314599593271\n",
            "total loss  138 0.32979573257024947\n",
            "total loss  139 0.32946344753146334\n",
            "total loss  140 0.32913454576051576\n",
            "total loss  141 0.32880896959287004\n",
            "total loss  142 0.32848666273812593\n",
            "total loss  143 0.32816757023793386\n",
            "total loss  144 0.3278516384254262\n",
            "total loss  145 0.32753881488620235\n",
            "total loss  146 0.32722904842076267\n",
            "total loss  147 0.32692228900825565\n",
            "total loss  148 0.32661848777166175\n",
            "total loss  149 0.32631759694407875\n",
            "total loss  150 0.32601956983636365\n",
            "total loss  151 0.32572436080586936\n",
            "total loss  152 0.32543192522625597\n",
            "total loss  153 0.3251422194584183\n",
            "total loss  154 0.3248552008224404\n",
            "total loss  155 0.3245708275704312\n",
            "total loss  156 0.32428905886042664\n",
            "total loss  157 0.3240098547311009\n",
            "total loss  158 0.32373317607731866\n",
            "total loss  159 0.3234589846266315\n",
            "total loss  160 0.3231872429164489\n",
            "total loss  161 0.32291791427200617\n",
            "total loss  162 0.32265096278510563\n",
            "total loss  163 0.32238635329349097\n",
            "total loss  164 0.32212405136097155\n",
            "total loss  165 0.32186402325812974\n",
            "total loss  166 0.3216062359436898\n",
            "total loss  167 0.3213506570464927\n",
            "total loss  168 0.321097254848013\n",
            "total loss  169 0.32084599826546495\n",
            "total loss  170 0.3205968568354332\n",
            "total loss  171 0.3203498006980084\n",
            "total loss  172 0.3201048005814473\n",
            "total loss  173 0.31986182778726974\n",
            "total loss  174 0.3196208541758487\n",
            "total loss  175 0.319381852152425\n",
            "total loss  176 0.31914479465356516\n",
            "total loss  177 0.3189096551339969\n",
            "total loss  178 0.318676407553913\n",
            "total loss  179 0.31844502636655486\n",
            "total loss  180 0.31821548650627246\n",
            "total loss  181 0.3179877633768511\n",
            "total loss  182 0.3177618328402467\n",
            "total loss  183 0.31753767120562126\n",
            "total loss  184 0.31731525521868187\n",
            "total loss  185 0.3170945620513834\n",
            "total loss  186 0.3168755692918849\n",
            "total loss  187 0.3166582549347998\n",
            "total loss  188 0.31644259737174235\n",
            "total loss  189 0.31622857538211\n",
            "total loss  190 0.3160161681241911\n",
            "total loss  191 0.31580535512645125\n",
            "total loss  192 0.31559611627908957\n",
            "total loss  193 0.3153884318258548\n",
            "total loss  194 0.3151822823560518\n",
            "total loss  195 0.31497764879679274\n",
            "total loss  196 0.3147745124054412\n",
            "total loss  197 0.3145728547622912\n",
            "total loss  198 0.3143726577634105\n",
            "total loss  199 0.31417390361369907\n",
            "total loss  200 0.3139765748201369\n",
            "total loss  201 0.31378065418518175\n",
            "total loss  202 0.3135861248004105\n",
            "total loss  203 0.31339297004022476\n",
            "total loss  204 0.31320117355581095\n",
            "total loss  205 0.31301071926926155\n",
            "total loss  206 0.3128215913677498\n",
            "total loss  207 0.31263377429796785\n",
            "total loss  208 0.3124472527606602\n",
            "total loss  209 0.3122620117052879\n",
            "total loss  210 0.31207803632485454\n",
            "total loss  211 0.3118953120508319\n",
            "total loss  212 0.3117138245482768\n",
            "total loss  213 0.3115335597109738\n",
            "total loss  214 0.31135450365679695\n",
            "total loss  215 0.3111766427231367\n",
            "total loss  216 0.3109999634624261\n",
            "total loss  217 0.3108244526378404\n",
            "total loss  218 0.3106500972190274\n",
            "total loss  219 0.3104768843779982\n",
            "total loss  220 0.31030480148508727\n",
            "total loss  221 0.3101338361050428\n",
            "total loss  222 0.30996397599316217\n",
            "total loss  223 0.3097952090915777\n",
            "total loss  224 0.30962752352557255\n",
            "total loss  225 0.30946090760004413\n",
            "total loss  226 0.3092953497960201\n",
            "total loss  227 0.3091308387672205\n",
            "total loss  228 0.3089673633368039\n",
            "total loss  229 0.30880491249407094\n",
            "total loss  230 0.30864347539132275\n",
            "total loss  231 0.3084830413407704\n",
            "total loss  232 0.3083235998115162\n",
            "total loss  233 0.3081651404265912\n",
            "total loss  234 0.30800765296008303\n",
            "total loss  235 0.3078511273343238\n",
            "total loss  236 0.30769555361712686\n",
            "total loss  237 0.3075409220190996\n",
            "total loss  238 0.30738722289102055\n",
            "total loss  239 0.3072344467212524\n",
            "total loss  240 0.3070825841332615\n",
            "total loss  241 0.3069316258831293\n",
            "total loss  242 0.3067815628571652\n",
            "total loss  243 0.3066323860695485\n",
            "total loss  244 0.30648408666004784\n",
            "total loss  245 0.30633665589175935\n",
            "total loss  246 0.30619008514891605\n",
            "total loss  247 0.306044365934725\n",
            "total loss  248 0.3058994898692979\n",
            "total loss  249 0.30575544868754284\n",
            "total loss  250 0.3056122342372076\n",
            "total loss  251 0.3054698384768405\n",
            "total loss  252 0.30532825347393244\n",
            "total loss  253 0.30518747140298624\n",
            "total loss  254 0.305047484543679\n",
            "total loss  255 0.30490828527904856\n",
            "total loss  256 0.30476986609374135\n",
            "total loss  257 0.3046322195722534\n",
            "total loss  258 0.304495338397258\n",
            "total loss  259 0.30435921534790644\n",
            "total loss  260 0.3042238432982387\n",
            "total loss  261 0.30408921521558896\n",
            "total loss  262 0.30395532415897153\n",
            "total loss  263 0.30382216327761535\n",
            "total loss  264 0.30368972580942455\n",
            "total loss  265 0.3035580050795296\n",
            "total loss  266 0.30342699449882926\n",
            "total loss  267 0.3032966875626035\n",
            "total loss  268 0.30316707784912367\n",
            "total loss  269 0.3030381590182888\n",
            "total loss  270 0.3029099248103043\n",
            "total loss  271 0.30278236904438605\n",
            "total loss  272 0.30265548561746874\n",
            "total loss  273 0.3025292685029993\n",
            "total loss  274 0.30240371174965436\n",
            "total loss  275 0.3022788094801681\n",
            "total loss  276 0.30215455589015666\n",
            "total loss  277 0.30203094524696233\n",
            "total loss  278 0.30190797188850843\n",
            "total loss  279 0.30178563022219174\n",
            "total loss  280 0.301663914723811\n",
            "total loss  281 0.301542819936463\n",
            "total loss  282 0.3014223404695293\n",
            "total loss  283 0.3013024709976295\n",
            "total loss  284 0.3011832062596031\n",
            "total loss  285 0.30106454105756\n",
            "total loss  286 0.3009464702558517\n",
            "total loss  287 0.3008289887801534\n",
            "total loss  288 0.30071209161652546\n",
            "total loss  289 0.3005957738104879\n",
            "total loss  290 0.3004800304661252\n",
            "total loss  291 0.3003648567451994\n",
            "total loss  292 0.30025024786627325\n",
            "total loss  293 0.30013619910387057\n",
            "total loss  294 0.3000227057876409\n",
            "total loss  295 0.29990976330151764\n",
            "total loss  296 0.29979736708293525\n",
            "total loss  297 0.2996855126220235\n",
            "total loss  298 0.2995741954608495\n",
            "total loss  299 0.29946341119260755\n",
            "total loss  300 0.29935315546092006\n",
            "total loss  301 0.29924342395908243\n",
            "total loss  302 0.2991342124293162\n",
            "total loss  303 0.29902551666211097\n",
            "total loss  304 0.2989173324954691\n",
            "total loss  305 0.2988096558142592\n",
            "total loss  306 0.2987024825495221\n",
            "total loss  307 0.2985958086778104\n",
            "total loss  308 0.2984896302205627\n",
            "total loss  309 0.29838394324342393\n",
            "total loss  310 0.2982787438556458\n",
            "total loss  311 0.29817402820947014\n",
            "total loss  312 0.2980697924994952\n",
            "total loss  313 0.29796603296211505\n",
            "total loss  314 0.2978627458749146\n",
            "total loss  315 0.2977599275560807\n",
            "total loss  316 0.2976575743638806\n",
            "total loss  317 0.2975556826960467\n",
            "total loss  318 0.2974542489892729\n",
            "total loss  319 0.2973532697186645\n",
            "total loss  320 0.29725274139719954\n",
            "total loss  321 0.2971526605752256\n",
            "total loss  322 0.2970530238399364\n",
            "total loss  323 0.2969538278148733\n",
            "total loss  324 0.2968550691594204\n",
            "total loss  325 0.2967567445683402\n",
            "total loss  326 0.29665885077128296\n",
            "total loss  327 0.2965613845323041\n",
            "total loss  328 0.29646434264942656\n",
            "total loss  329 0.29636772195417216\n",
            "total loss  330 0.29627151931109325\n",
            "total loss  331 0.2961757316173899\n",
            "total loss  332 0.29608035580241193\n",
            "total loss  333 0.29598538882728026\n",
            "total loss  334 0.29589082768442726\n",
            "total loss  335 0.29579666939723037\n",
            "total loss  336 0.29570291101955753\n",
            "total loss  337 0.29560954963540925\n",
            "total loss  338 0.2955165823584906\n",
            "total loss  339 0.29542400633186183\n",
            "total loss  340 0.2953318187275211\n",
            "total loss  341 0.29524001674604716\n",
            "total loss  342 0.29514859761623263\n",
            "total loss  343 0.2950575585947178\n",
            "total loss  344 0.2949668969656282\n",
            "total loss  345 0.2948766100402253\n",
            "total loss  346 0.29478669515657685\n",
            "total loss  347 0.29469714967916943\n",
            "total loss  348 0.2946079709986372\n",
            "total loss  349 0.29451915653138094\n",
            "total loss  350 0.294430703719262\n",
            "total loss  351 0.29434261002927725\n",
            "total loss  352 0.29425487295325425\n",
            "total loss  353 0.2941674900075241\n",
            "total loss  354 0.29408045873262345\n",
            "total loss  355 0.29399377669300814\n",
            "total loss  356 0.29390744147671166\n",
            "total loss  357 0.29382145069511395\n",
            "total loss  358 0.2937358019826026\n",
            "total loss  359 0.2936504929963162\n",
            "total loss  360 0.2935655214158531\n",
            "total loss  361 0.29348088494300234\n",
            "total loss  362 0.2933965813014732\n",
            "total loss  363 0.2933126082366272\n",
            "total loss  364 0.29322896351519606\n",
            "total loss  365 0.29314564492507217\n",
            "total loss  366 0.2930626502749928\n",
            "total loss  367 0.2929799773943282\n",
            "total loss  368 0.292897624132822\n",
            "total loss  369 0.29281558836034244\n",
            "total loss  370 0.29273386796664636\n",
            "total loss  371 0.29265246086114566\n",
            "total loss  372 0.29257136497267255\n",
            "total loss  373 0.29249057824923147\n",
            "total loss  374 0.2924100986578099\n",
            "total loss  375 0.292329924184098\n",
            "total loss  376 0.2922500528323255\n",
            "total loss  377 0.2921704826250162\n",
            "total loss  378 0.2920912116027715\n",
            "total loss  379 0.2920122378240722\n",
            "total loss  380 0.2919335593650543\n",
            "total loss  381 0.2918551743193075\n",
            "total loss  382 0.29177708079769643\n",
            "total loss  383 0.2916992769281181\n",
            "total loss  384 0.2916217608553375\n",
            "total loss  385 0.29154453074079234\n",
            "total loss  386 0.29146758476239093\n",
            "total loss  387 0.29139092111431214\n",
            "total loss  388 0.2913145380068493\n",
            "total loss  389 0.29123843366620855\n",
            "total loss  390 0.2911626063343287\n",
            "total loss  391 0.29108705426869363\n",
            "total loss  392 0.29101177574218523\n",
            "total loss  393 0.2909367690428814\n",
            "total loss  394 0.2908620324738901\n",
            "total loss  395 0.2907875643531982\n",
            "total loss  396 0.2907133630134874\n",
            "total loss  397 0.29063942680197163\n",
            "total loss  398 0.29056575408023916\n",
            "total loss  399 0.2904923432240938\n",
            "total loss  400 0.2904191926233914\n",
            "total loss  401 0.29034630068188977\n",
            "total loss  402 0.29027366581709546\n",
            "total loss  403 0.29020128646010945\n",
            "total loss  404 0.29012916105547437\n",
            "total loss  405 0.2900572880610405\n",
            "total loss  406 0.28998566594779895\n",
            "total loss  407 0.2899142931997674\n",
            "total loss  408 0.28984316831380763\n",
            "total loss  409 0.289772289799535\n",
            "total loss  410 0.28970165617913457\n",
            "total loss  411 0.289631265987257\n",
            "total loss  412 0.2895611177708647\n",
            "total loss  413 0.28949121008912315\n",
            "total loss  414 0.2894215415132395\n",
            "total loss  415 0.28935211062635063\n",
            "total loss  416 0.28928291602339523\n",
            "total loss  417 0.2892139563109926\n",
            "total loss  418 0.2891452301072971\n",
            "total loss  419 0.28907673604190764\n",
            "total loss  420 0.28900847275572167\n",
            "total loss  421 0.2889404389008174\n",
            "total loss  422 0.2888726331403533\n",
            "total loss  423 0.2888050541484426\n",
            "total loss  424 0.28873770061003035\n",
            "total loss  425 0.2886705712207732\n",
            "total loss  426 0.2886036646869689\n",
            "total loss  427 0.28853697972539816\n",
            "total loss  428 0.28847051506323923\n",
            "total loss  429 0.28840426943796077\n",
            "total loss  430 0.28833824159720123\n",
            "total loss  431 0.2882724302986712\n",
            "total loss  432 0.2882068343100696\n",
            "total loss  433 0.2881414524089469\n",
            "total loss  434 0.28807628338261265\n",
            "total loss  435 0.28801132602807644\n",
            "total loss  436 0.28794657915186733\n",
            "total loss  437 0.2878820415700378\n",
            "total loss  438 0.2878177121079599\n",
            "total loss  439 0.28775358960033187\n",
            "total loss  440 0.287689672891006\n",
            "total loss  441 0.28762596083294983\n",
            "total loss  442 0.287562452288106\n",
            "total loss  443 0.2874991461273541\n",
            "total loss  444 0.28743604123037125\n",
            "total loss  445 0.2873731364855844\n",
            "total loss  446 0.2873104307900597\n",
            "total loss  447 0.28724792304941943\n",
            "total loss  448 0.28718561217776556\n",
            "total loss  449 0.28712349709758817\n",
            "total loss  450 0.2870615767396802\n",
            "total loss  451 0.2869998500430703\n",
            "total loss  452 0.28693831595490976\n",
            "total loss  453 0.28687697343043783\n",
            "total loss  454 0.28681582143286694\n",
            "total loss  455 0.2867548589333138\n",
            "total loss  456 0.28669408491073295\n",
            "total loss  457 0.28663349835182156\n",
            "total loss  458 0.2865730982509543\n",
            "total loss  459 0.28651288361012106\n",
            "total loss  460 0.28645285343883\n",
            "total loss  461 0.28639300675404283\n",
            "total loss  462 0.28633334258011073\n",
            "total loss  463 0.2862738599487025\n",
            "total loss  464 0.28621455789872396\n",
            "total loss  465 0.2861554354762428\n",
            "total loss  466 0.28609649173446716\n",
            "total loss  467 0.28603772573359404\n",
            "total loss  468 0.2859791365408271\n",
            "total loss  469 0.28592072323025763\n",
            "total loss  470 0.2858624848828218\n",
            "total loss  471 0.2858044205862157\n",
            "total loss  472 0.28574652943485757\n",
            "total loss  473 0.285688810529811\n",
            "total loss  474 0.2856312629787174\n",
            "total loss  475 0.28557388589573784\n",
            "total loss  476 0.28551667840150186\n",
            "total loss  477 0.28545963962303383\n",
            "total loss  478 0.285402768693689\n",
            "total loss  479 0.28534606475312385\n",
            "total loss  480 0.2852895269472079\n",
            "total loss  481 0.28523315442796343\n",
            "total loss  482 0.28517694635353397\n",
            "total loss  483 0.28512090188811495\n",
            "total loss  484 0.28506502020188873\n",
            "total loss  485 0.28500930047098466\n",
            "total loss  486 0.2849537418774164\n",
            "total loss  487 0.2848983436090285\n",
            "total loss  488 0.28484310485943237\n",
            "total loss  489 0.2847880248279917\n",
            "total loss  490 0.28473310271971236\n",
            "total loss  491 0.2846783377452558\n",
            "total loss  492 0.28462372912081824\n",
            "total loss  493 0.2845692760681381\n",
            "total loss  494 0.28451497781442264\n",
            "total loss  495 0.28446083359229\n",
            "total loss  496 0.28440684263974164\n",
            "total loss  497 0.28435300420009674\n",
            "total loss  498 0.2842993175219524\n",
            "total loss  499 0.28424578185912563\n",
            "total loss  500 0.2841923964706339\n",
            "total loss  501 0.28413916062060895\n",
            "total loss  502 0.28408607357829524\n",
            "total loss  503 0.2840331346179579\n",
            "total loss  504 0.28398034301888336\n",
            "total loss  505 0.28392769806529966\n",
            "total loss  506 0.2838751990463493\n",
            "total loss  507 0.28382284525604884\n",
            "total loss  508 0.2837706359932394\n",
            "total loss  509 0.2837185705615425\n",
            "total loss  510 0.28366664826932286\n",
            "total loss  511 0.2836148684296407\n",
            "total loss  512 0.2835632303602227\n",
            "total loss  513 0.28351173338341423\n",
            "total loss  514 0.28346037682612396\n",
            "total loss  515 0.2834091600198214\n",
            "total loss  516 0.2833580823004575\n",
            "total loss  517 0.28330714300845133\n",
            "total loss  518 0.28325634148863943\n",
            "total loss  519 0.283205677090252\n",
            "total loss  520 0.28315514916684886\n",
            "total loss  521 0.2831047570763093\n",
            "total loss  522 0.2830545001807884\n",
            "total loss  523 0.2830043778466572\n",
            "total loss  524 0.28295438944451295\n",
            "total loss  525 0.2829045343490879\n",
            "total loss  526 0.2828548119392653\n",
            "total loss  527 0.2828052215980046\n",
            "total loss  528 0.2827557627123263\n",
            "total loss  529 0.28270643467328704\n",
            "total loss  530 0.2826572368759244\n",
            "total loss  531 0.282608168719225\n",
            "total loss  532 0.28255922960610924\n",
            "total loss  533 0.28251041894337975\n",
            "total loss  534 0.2824617361417027\n",
            "total loss  535 0.282413180615563\n",
            "total loss  536 0.28236475178325016\n",
            "total loss  537 0.28231644906679304\n",
            "total loss  538 0.28226827189197295\n",
            "total loss  539 0.28222021968826244\n",
            "total loss  540 0.28217229188879683\n",
            "total loss  541 0.2821244879303636\n",
            "total loss  542 0.2820768072533378\n",
            "total loss  543 0.2820292493016915\n",
            "total loss  544 0.28198181352293894\n",
            "total loss  545 0.28193449936810966\n",
            "total loss  546 0.2818873062917294\n",
            "total loss  547 0.28184023375178646\n",
            "total loss  548 0.28179328120969843\n",
            "total loss  549 0.28174644813029603\n",
            "total loss  550 0.28169973398178033\n",
            "total loss  551 0.2816531382357068\n",
            "total loss  552 0.2816066603669573\n",
            "total loss  553 0.28156029985370806\n",
            "total loss  554 0.28151405617740277\n",
            "total loss  555 0.2814679288227312\n",
            "total loss  556 0.2814219172776064\n",
            "total loss  557 0.2813760210331165\n",
            "total loss  558 0.28133023958353665\n",
            "total loss  559 0.2812845724262684\n",
            "total loss  560 0.28123901906183174\n",
            "total loss  561 0.2811935789938362\n",
            "total loss  562 0.281148251728968\n",
            "total loss  563 0.28110303677694304\n",
            "total loss  564 0.28105793365049464\n",
            "total loss  565 0.2810129418653609\n",
            "total loss  566 0.28096806094023496\n",
            "total loss  567 0.28092329039676733\n",
            "total loss  568 0.28087862975953354\n",
            "total loss  569 0.28083407855598724\n",
            "total loss  570 0.28078963631649423\n",
            "total loss  571 0.28074530257425145\n",
            "total loss  572 0.28070107686529416\n",
            "total loss  573 0.28065695872846236\n",
            "total loss  574 0.2806129477053938\n",
            "total loss  575 0.28056904334048893\n",
            "total loss  576 0.2805252451808959\n",
            "total loss  577 0.2804815527764806\n",
            "total loss  578 0.28043796567981416\n",
            "total loss  579 0.280394483446149\n",
            "total loss  580 0.2803511056334082\n",
            "total loss  581 0.2803078318021316\n",
            "total loss  582 0.28026466151550783\n",
            "total loss  583 0.28022159433930516\n",
            "total loss  584 0.2801786298418886\n",
            "total loss  585 0.28013576759416237\n",
            "total loss  586 0.2800930071695902\n",
            "total loss  587 0.2800503481441457\n",
            "total loss  588 0.2800077900963122\n",
            "total loss  589 0.2799653326070531\n",
            "total loss  590 0.27992297525979404\n",
            "total loss  591 0.27988071764040034\n",
            "total loss  592 0.2798385593371893\n",
            "total loss  593 0.2797964999408546\n",
            "total loss  594 0.27975453904449804\n",
            "total loss  595 0.2797126762435978\n",
            "total loss  596 0.27967091113597753\n",
            "total loss  597 0.2796292433217939\n",
            "total loss  598 0.2795876724035324\n",
            "total loss  599 0.27954619798598584\n",
            "total loss  600 0.27950481967622115\n",
            "total loss  601 0.2794635370835683\n",
            "total loss  602 0.279422349819617\n",
            "total loss  603 0.27938125749819603\n",
            "total loss  604 0.27934025973534293\n",
            "total loss  605 0.2792993561493022\n",
            "total loss  606 0.27925854636049674\n",
            "total loss  607 0.27921782999152267\n",
            "total loss  608 0.2791772066671269\n",
            "total loss  609 0.2791366760141983\n",
            "total loss  610 0.2790962376617435\n",
            "total loss  611 0.2790558912408725\n",
            "total loss  612 0.27901563638478943\n",
            "total loss  613 0.27897547272877127\n",
            "total loss  614 0.27893539991015703\n",
            "total loss  615 0.2788954175683268\n",
            "total loss  616 0.2788555253446905\n",
            "total loss  617 0.27881572288267853\n",
            "total loss  618 0.2787760098277241\n",
            "total loss  619 0.27873638582722876\n",
            "total loss  620 0.27869685053059157\n",
            "total loss  621 0.27865740358914415\n",
            "total loss  622 0.27861804465618706\n",
            "total loss  623 0.27857877338692255\n",
            "total loss  624 0.2785395894384905\n",
            "total loss  625 0.2785004924699232\n",
            "total loss  626 0.2784614821421409\n",
            "total loss  627 0.2784225581179382\n",
            "total loss  628 0.27838372006197576\n",
            "total loss  629 0.2783449676407618\n",
            "total loss  630 0.2783063005226371\n",
            "total loss  631 0.27826771837775366\n",
            "total loss  632 0.27822922087809476\n",
            "total loss  633 0.2781908076974217\n",
            "total loss  634 0.2781524785112879\n",
            "total loss  635 0.2781142329970167\n",
            "total loss  636 0.27807607083368513\n",
            "total loss  637 0.27803799170212096\n",
            "total loss  638 0.2779999952848812\n",
            "total loss  639 0.27796208126625105\n",
            "total loss  640 0.2779242493322178\n",
            "total loss  641 0.2778864991704739\n",
            "total loss  642 0.27784883047038633\n",
            "total loss  643 0.2778112429230149\n",
            "total loss  644 0.27777373622105767\n",
            "total loss  645 0.2777363100588809\n",
            "total loss  646 0.2776989641324835\n",
            "total loss  647 0.2776616981394957\n",
            "total loss  648 0.2776245117791601\n",
            "total loss  649 0.27758740475232574\n",
            "total loss  650 0.2775503767614416\n",
            "total loss  651 0.2775134275105259\n",
            "total loss  652 0.277476556705187\n",
            "total loss  653 0.2774397640525908\n",
            "total loss  654 0.2774030492614383\n",
            "total loss  655 0.27736641204199103\n",
            "total loss  656 0.2773298521060339\n",
            "total loss  657 0.2772933691668633\n",
            "total loss  658 0.2772569629392944\n",
            "total loss  659 0.2772206331396364\n",
            "total loss  660 0.27718437948569585\n",
            "total loss  661 0.27714820169674076\n",
            "total loss  662 0.2771120994935196\n",
            "total loss  663 0.2770760725982473\n",
            "total loss  664 0.27704012073455875\n",
            "total loss  665 0.27700424362756243\n",
            "total loss  666 0.2769684410037762\n",
            "total loss  667 0.2769327125911408\n",
            "total loss  668 0.2768970581190076\n",
            "total loss  669 0.2768614773181269\n",
            "total loss  670 0.2768259699206489\n",
            "total loss  671 0.2767905356600953\n",
            "total loss  672 0.2767551742713668\n",
            "total loss  673 0.27671988549071974\n",
            "total loss  674 0.2766846690557808\n",
            "total loss  675 0.27664952470550486\n",
            "total loss  676 0.276614452180197\n",
            "total loss  677 0.2765794512214778\n",
            "total loss  678 0.2765445215722983\n",
            "total loss  679 0.2765096629769155\n",
            "total loss  680 0.2764748751808915\n",
            "total loss  681 0.2764401579310666\n",
            "total loss  682 0.276405510975584\n",
            "total loss  683 0.2763709340638531\n",
            "total loss  684 0.27633642694656474\n",
            "total loss  685 0.2763019893756424\n",
            "total loss  686 0.2762676211042922\n",
            "total loss  687 0.2762333218869351\n",
            "total loss  688 0.2761990914792508\n",
            "total loss  689 0.2761649296381293\n",
            "total loss  690 0.2761308361216928\n",
            "total loss  691 0.2760968106892602\n",
            "total loss  692 0.2760628531013666\n",
            "total loss  693 0.27602896311973585\n",
            "total loss  694 0.2759951405072797\n",
            "total loss  695 0.27596138502809864\n",
            "total loss  696 0.27592769644745163\n",
            "total loss  697 0.27589407453177417\n",
            "total loss  698 0.2758605190486478\n",
            "total loss  699 0.27582702976682116\n",
            "total loss  700 0.27579360645616807\n",
            "total loss  701 0.2757602488877065\n",
            "total loss  702 0.2757269568335899\n",
            "total loss  703 0.27569373006706205\n",
            "total loss  704 0.2756605683625326\n",
            "total loss  705 0.2756274714954721\n",
            "total loss  706 0.275594439242471\n",
            "total loss  707 0.2755614713812051\n",
            "total loss  708 0.2755285676904401\n",
            "total loss  709 0.2754957279500229\n",
            "total loss  710 0.2754629519408714\n",
            "total loss  711 0.27543023944496703\n",
            "total loss  712 0.2753975902453464\n",
            "total loss  713 0.2753650041261052\n",
            "total loss  714 0.2753324808723812\n",
            "total loss  715 0.27530002027035094\n",
            "total loss  716 0.27526762210722966\n",
            "total loss  717 0.275235286171245\n",
            "total loss  718 0.27520301225165666\n",
            "total loss  719 0.27517080013873374\n",
            "total loss  720 0.2751386496237515\n",
            "total loss  721 0.2751065604989816\n",
            "total loss  722 0.2750745325577001\n",
            "total loss  723 0.2750425655941677\n",
            "total loss  724 0.2750106594036199\n",
            "total loss  725 0.27497881378227457\n",
            "total loss  726 0.27494702852731995\n",
            "total loss  727 0.2749153034369114\n",
            "total loss  728 0.2748836383101552\n",
            "total loss  729 0.2748520329471125\n",
            "total loss  730 0.2748204871487968\n",
            "total loss  731 0.2747890007171512\n",
            "total loss  732 0.27475757345505614\n",
            "total loss  733 0.27472620516634133\n",
            "total loss  734 0.2746948956557265\n",
            "total loss  735 0.2746636447288721\n",
            "total loss  736 0.274632452192347\n",
            "total loss  737 0.27460131785362163\n",
            "total loss  738 0.2745702415210793\n",
            "total loss  739 0.2745392230039814\n",
            "total loss  740 0.2745082621124936\n",
            "total loss  741 0.27447735865766043\n",
            "total loss  742 0.2744465124514103\n",
            "total loss  743 0.2744157233065408\n",
            "total loss  744 0.27438499103672065\n",
            "total loss  745 0.2743543154564836\n",
            "total loss  746 0.2743236963812217\n",
            "total loss  747 0.2742931336271895\n",
            "total loss  748 0.27426262701146775\n",
            "total loss  749 0.2742321763519926\n",
            "total loss  750 0.2742017814675522\n",
            "total loss  751 0.2741714421777477\n",
            "total loss  752 0.2741411583030194\n",
            "total loss  753 0.2741109296646202\n",
            "total loss  754 0.2740807560846421\n",
            "total loss  755 0.2740506373859708\n",
            "total loss  756 0.2740205733923072\n",
            "total loss  757 0.27399056392815985\n",
            "total loss  758 0.2739606088188325\n",
            "total loss  759 0.2739307078904246\n",
            "total loss  760 0.27390086096982963\n",
            "total loss  761 0.2738710678847191\n",
            "total loss  762 0.2738413284635536\n",
            "total loss  763 0.2738116425355582\n",
            "total loss  764 0.27378200993074275\n",
            "total loss  765 0.2737524304798739\n",
            "total loss  766 0.27372290401448784\n",
            "total loss  767 0.27369343036687294\n",
            "total loss  768 0.2736640093700785\n",
            "total loss  769 0.273634640857892\n",
            "total loss  770 0.2736053246648641\n",
            "total loss  771 0.27357606062626255\n",
            "total loss  772 0.27354684857811107\n",
            "total loss  773 0.273517688357158\n",
            "total loss  774 0.2734885798008776\n",
            "total loss  775 0.2734595227474641\n",
            "total loss  776 0.27343051703584953\n",
            "total loss  777 0.27340156250566217\n",
            "total loss  778 0.2733726589972405\n",
            "total loss  779 0.27334380635165045\n",
            "total loss  780 0.27331500441064943\n",
            "total loss  781 0.27328625301667303\n",
            "total loss  782 0.2732575520128963\n",
            "total loss  783 0.2732289012431436\n",
            "total loss  784 0.2732003005519486\n",
            "total loss  785 0.27317174978452513\n",
            "total loss  786 0.27314324878676316\n",
            "total loss  787 0.2731147974052292\n",
            "total loss  788 0.2730863954871584\n",
            "total loss  789 0.27305804288046204\n",
            "total loss  790 0.2730297394337106\n",
            "total loss  791 0.2730014849961231\n",
            "total loss  792 0.2729732794176007\n",
            "total loss  793 0.272945122548678\n",
            "total loss  794 0.2729170142405386\n",
            "total loss  795 0.27288895434502597\n",
            "total loss  796 0.2728609427146122\n",
            "total loss  797 0.2728329792024112\n",
            "total loss  798 0.27280506366217466\n",
            "total loss  799 0.2727771959482812\n",
            "total loss  800 0.27274937591573795\n",
            "total loss  801 0.2727216034201854\n",
            "total loss  802 0.27269387831786623\n",
            "total loss  803 0.27266620046565654\n",
            "total loss  804 0.27263856972104067\n",
            "total loss  805 0.27261098594210836\n",
            "total loss  806 0.27258344898756737\n",
            "total loss  807 0.27255595871671723\n",
            "total loss  808 0.27252851498946534\n",
            "total loss  809 0.27250111766631707\n",
            "total loss  810 0.27247376660836653\n",
            "total loss  811 0.27244646167729686\n",
            "total loss  812 0.27241920273538056\n",
            "total loss  813 0.2723919896454855\n",
            "total loss  814 0.2723648222710386\n",
            "total loss  815 0.27233770047606065\n",
            "total loss  816 0.2723106241251395\n",
            "total loss  817 0.27228359308343136\n",
            "total loss  818 0.27225660721668105\n",
            "total loss  819 0.2722296663911651\n",
            "total loss  820 0.27220277047375196\n",
            "total loss  821 0.2721759193318524\n",
            "total loss  822 0.27214911283344134\n",
            "total loss  823 0.2721223508470317\n",
            "total loss  824 0.2720956332417043\n",
            "total loss  825 0.27206895988708363\n",
            "total loss  826 0.27204233065332967\n",
            "total loss  827 0.27201574541113943\n",
            "total loss  828 0.27198920403176735\n",
            "total loss  829 0.27196270638698883\n",
            "total loss  830 0.2719362523491109\n",
            "total loss  831 0.2719098417909755\n",
            "total loss  832 0.27188347458594925\n",
            "total loss  833 0.2718571506079248\n",
            "total loss  834 0.271830869731308\n",
            "total loss  835 0.27180463183103004\n",
            "total loss  836 0.2717784367825317\n",
            "total loss  837 0.27175228446177946\n",
            "total loss  838 0.2717261747452306\n",
            "total loss  839 0.2717001075098585\n",
            "total loss  840 0.27167408263314935\n",
            "total loss  841 0.27164809999308026\n",
            "total loss  842 0.271622159468131\n",
            "total loss  843 0.2715962609372719\n",
            "total loss  844 0.2715704042799727\n",
            "total loss  845 0.2715445893762038\n",
            "total loss  846 0.2715188161064014\n",
            "total loss  847 0.27149308435151753\n",
            "total loss  848 0.271467393992955\n",
            "total loss  849 0.27144174491262196\n",
            "total loss  850 0.27141613699289097\n",
            "total loss  851 0.2713905701166187\n",
            "total loss  852 0.27136504416713497\n",
            "total loss  853 0.2713395590282391\n",
            "total loss  854 0.2713141145841987\n",
            "total loss  855 0.271288710719738\n",
            "total loss  856 0.2712633473200596\n",
            "total loss  857 0.27123802427081956\n",
            "total loss  858 0.2712127414581407\n",
            "total loss  859 0.27118749876859183\n",
            "total loss  860 0.2711622960891964\n",
            "total loss  861 0.2711371333074342\n",
            "total loss  862 0.27111201031123977\n",
            "total loss  863 0.27108692698897924\n",
            "total loss  864 0.2710618832294757\n",
            "total loss  865 0.27103687892199363\n",
            "total loss  866 0.27101191395623075\n",
            "total loss  867 0.2709869882223298\n",
            "total loss  868 0.2709621016108697\n",
            "total loss  869 0.27093725401285385\n",
            "total loss  870 0.27091244531972447\n",
            "total loss  871 0.27088767542335224\n",
            "total loss  872 0.27086294421602886\n",
            "total loss  873 0.2708382515904799\n",
            "total loss  874 0.2708135974398434\n",
            "total loss  875 0.27078898165768217\n",
            "total loss  876 0.27076440413798347\n",
            "total loss  877 0.2707398647751397\n",
            "total loss  878 0.270715363463964\n",
            "total loss  879 0.27069090009967717\n",
            "total loss  880 0.2706664745779108\n",
            "total loss  881 0.27064208679470886\n",
            "total loss  882 0.2706177366465132\n",
            "total loss  883 0.27059342403017445\n",
            "total loss  884 0.27056914884294236\n",
            "total loss  885 0.2705449109824652\n",
            "total loss  886 0.27052071034679354\n",
            "total loss  887 0.27049654683436847\n",
            "total loss  888 0.2704724203440283\n",
            "total loss  889 0.27044833077499386\n",
            "total loss  890 0.27042427802688973\n",
            "total loss  891 0.2704002619997137\n",
            "total loss  892 0.2703762825938637\n",
            "total loss  893 0.27035233971010775\n",
            "total loss  894 0.2703284332496022\n",
            "total loss  895 0.2703045631138852\n",
            "total loss  896 0.2702807292048706\n",
            "total loss  897 0.27025693142484264\n",
            "total loss  898 0.2702331696764702\n",
            "total loss  899 0.2702094438627877\n",
            "total loss  900 0.27018575388719757\n",
            "total loss  901 0.2701620996534814\n",
            "total loss  902 0.27013848106577915\n",
            "total loss  903 0.2701148980286015\n",
            "total loss  904 0.2700913504468084\n",
            "total loss  905 0.2700678382256451\n",
            "total loss  906 0.27004436127069315\n",
            "total loss  907 0.2700209194879072\n",
            "total loss  908 0.2699975127835903\n",
            "total loss  909 0.26997414106440637\n",
            "total loss  910 0.26995080423736195\n",
            "total loss  911 0.26992750220982736\n",
            "total loss  912 0.2699042348895105\n",
            "total loss  913 0.2698810021844722\n",
            "total loss  914 0.2698578040031268\n",
            "total loss  915 0.26983464025421183\n",
            "total loss  916 0.2698115108468305\n",
            "total loss  917 0.2697884156904116\n",
            "total loss  918 0.2697653546947317\n",
            "total loss  919 0.2697423277698943\n",
            "total loss  920 0.26971933482635596\n",
            "total loss  921 0.26969637577488104\n",
            "total loss  922 0.2696734505266049\n",
            "total loss  923 0.26965055899295715\n",
            "total loss  924 0.26962770108571144\n",
            "total loss  925 0.26960487671697014\n",
            "total loss  926 0.2695820857991663\n",
            "total loss  927 0.26955932824504897\n",
            "total loss  928 0.2695366039676905\n",
            "total loss  929 0.2695139128804946\n",
            "total loss  930 0.2694912548971716\n",
            "total loss  931 0.2694686299317633\n",
            "total loss  932 0.269446037898619\n",
            "total loss  933 0.2694234787124064\n",
            "total loss  934 0.26940095228811023\n",
            "total loss  935 0.2693784585410209\n",
            "total loss  936 0.26935599738675076\n",
            "total loss  937 0.2693335687412057\n",
            "total loss  938 0.2693111725206191\n",
            "total loss  939 0.26928880864151444\n",
            "total loss  940 0.26926647702072615\n",
            "total loss  941 0.2692441775753969\n",
            "total loss  942 0.2692219102229642\n",
            "total loss  943 0.2691996748811673\n",
            "total loss  944 0.269177471468057\n",
            "total loss  945 0.26915529990196096\n",
            "total loss  946 0.2691331601015193\n",
            "total loss  947 0.26911105198566615\n",
            "total loss  948 0.26908897547362237\n",
            "total loss  949 0.269066930484906\n",
            "total loss  950 0.269044916939325\n",
            "total loss  951 0.26902293475697747\n",
            "total loss  952 0.26900098385825094\n",
            "total loss  953 0.26897906416380984\n",
            "total loss  954 0.26895717559462673\n",
            "total loss  955 0.26893531807193805\n",
            "total loss  956 0.2689134915172663\n",
            "total loss  957 0.2688916958524222\n",
            "total loss  958 0.26886993099949713\n",
            "total loss  959 0.2688481968808558\n",
            "total loss  960 0.2688264934191368\n",
            "total loss  961 0.2688048205372763\n",
            "total loss  962 0.26878317815845837\n",
            "total loss  963 0.268761566206158\n",
            "total loss  964 0.2687399846041162\n",
            "total loss  965 0.2687184332763485\n",
            "total loss  966 0.2686969121471452\n",
            "total loss  967 0.26867542114105436\n",
            "total loss  968 0.2686539601828966\n",
            "total loss  969 0.268632529197762\n",
            "total loss  970 0.2686111281110045\n",
            "total loss  971 0.2685897568482434\n",
            "total loss  972 0.2685684153353498\n",
            "total loss  973 0.26854710349847616\n",
            "total loss  974 0.2685258212640199\n",
            "total loss  975 0.2685045685586364\n",
            "total loss  976 0.2684833453092535\n",
            "total loss  977 0.2684621514430426\n",
            "total loss  978 0.2684409868874383\n",
            "total loss  979 0.2684198515701201\n",
            "total loss  980 0.2683987454190409\n",
            "total loss  981 0.2683776683623798\n",
            "total loss  982 0.26835662032858454\n",
            "total loss  983 0.2683356012463476\n",
            "total loss  984 0.2683146110446139\n",
            "total loss  985 0.2682936496525686\n",
            "total loss  986 0.26827271699965155\n",
            "total loss  987 0.2682518130155381\n",
            "total loss  988 0.26823093763016104\n",
            "total loss  989 0.2682100907736861\n",
            "total loss  990 0.2681892723765233\n",
            "total loss  991 0.2681684823693231\n",
            "total loss  992 0.26814772068299186\n",
            "total loss  993 0.26812698724864537\n",
            "total loss  994 0.268106281997653\n",
            "total loss  995 0.2680856048616284\n",
            "total loss  996 0.26806495577241096\n",
            "total loss  997 0.26804433466207445\n",
            "total loss  998 0.26802374146293245\n",
            "total loss  999 0.268003176107526\n",
            "total loss  1000 0.26798263852862736\n"
          ],
          "name": "stdout"
        }
      ]
    },
    {
      "cell_type": "markdown",
      "metadata": {
        "id": "JaFl9YL3neKU"
      },
      "source": [
        "## Part 3: Computing more efficiently"
      ]
    },
    {
      "cell_type": "code",
      "metadata": {
        "id": "hu6bAA-nxMB1"
      },
      "source": [
        ""
      ],
      "execution_count": null,
      "outputs": []
    },
    {
      "cell_type": "markdown",
      "metadata": {
        "id": "dsNGExwonyPM"
      },
      "source": [
        "## Part 4: Evaluating gradient descent"
      ]
    },
    {
      "cell_type": "code",
      "metadata": {
        "id": "n2umiq1i0ZU5"
      },
      "source": [
        ""
      ],
      "execution_count": null,
      "outputs": []
    },
    {
      "cell_type": "markdown",
      "metadata": {
        "id": "4wXCmpTkT4Mm"
      },
      "source": [
        "# IV. Training Model"
      ]
    },
    {
      "cell_type": "markdown",
      "metadata": {
        "id": "z_C-xbFzz5Za"
      },
      "source": [
        "Chuẩn hóa đầu vào bằng cách chia cho 255 mỗi điểm dữ liệu để đưa về dạng phân bố chuẩn Gauss 0-1"
      ]
    },
    {
      "cell_type": "code",
      "metadata": {
        "id": "b4dNU_fqJxiP",
        "colab": {
          "base_uri": "https://localhost:8080/"
        },
        "outputId": "13d5d0d0-f378-4976-df01-0b62dfed9d49"
      },
      "source": [
        "X_train = X_train / 255\n",
        "X_train.shape\n",
        "print(X_train)"
      ],
      "execution_count": 123,
      "outputs": [
        {
          "output_type": "stream",
          "text": [
            "[[0. 0. 0. ... 0. 0. 0.]\n",
            " [0. 0. 0. ... 0. 0. 0.]\n",
            " [0. 0. 0. ... 0. 0. 0.]\n",
            " ...\n",
            " [0. 0. 0. ... 0. 0. 0.]\n",
            " [0. 0. 0. ... 0. 0. 0.]\n",
            " [0. 0. 0. ... 0. 0. 0.]]\n"
          ],
          "name": "stdout"
        }
      ]
    },
    {
      "cell_type": "code",
      "metadata": {
        "colab": {
          "base_uri": "https://localhost:8080/"
        },
        "id": "8CDrjgxaCcjP",
        "outputId": "bad07d09-9b00-4768-9f10-793d3ab7b255"
      },
      "source": [
        "m = len(train_y)\n",
        "print(\"m\", m)\n",
        "print(\"X ban dau\", X_train.shape)\n",
        "\n",
        "X = np.hstack( (np.ones((m,1)), X_train) )\n",
        "print(\"X sau khi noi vecto\", X.shape)\n",
        "\n",
        "n = np.size(X, 1)\n",
        "print(\"n\", n)\n",
        "W = np.zeros((n, 10))\n",
        "print(\"theta\", W.shape)"
      ],
      "execution_count": 124,
      "outputs": [
        {
          "output_type": "stream",
          "text": [
            "m 60000\n",
            "X ban dau (60000, 784)\n",
            "X sau khi noi vecto (60000, 785)\n",
            "n 785\n",
            "theta (785, 10)\n"
          ],
          "name": "stdout"
        }
      ]
    },
    {
      "cell_type": "code",
      "metadata": {
        "colab": {
          "base_uri": "https://localhost:8080/"
        },
        "id": "FGvn4Xth06aj",
        "outputId": "e68d1f66-e879-434c-9aa1-b69266f4aa09"
      },
      "source": [
        "y_hot = one_hot(train_y, c)\n",
        "y_hot.shape"
      ],
      "execution_count": 125,
      "outputs": [
        {
          "output_type": "execute_result",
          "data": {
            "text/plain": [
              "(60000, 10)"
            ]
          },
          "metadata": {
            "tags": []
          },
          "execution_count": 125
        }
      ]
    },
    {
      "cell_type": "code",
      "metadata": {
        "colab": {
          "base_uri": "https://localhost:8080/"
        },
        "id": "Usbz9kXjDVXL",
        "outputId": "9402b867-1511-438d-aeae-0b4c79077cfe"
      },
      "source": [
        "print(X.shape)\n",
        "print(W.shape)\n",
        "print(y_hot.shape)"
      ],
      "execution_count": 126,
      "outputs": [
        {
          "output_type": "stream",
          "text": [
            "(60000, 785)\n",
            "(785, 10)\n",
            "(60000, 10)\n"
          ],
          "name": "stdout"
        }
      ]
    },
    {
      "cell_type": "code",
      "metadata": {
        "id": "usUvRmlBibaD"
      },
      "source": [
        "c = 10 # the number of classes from 0 to 9\n",
        "iterations = 1000 # the number of loops\n",
        "learning_rate = 1.0\n",
        "lam_da = 0.0001"
      ],
      "execution_count": 155,
      "outputs": []
    },
    {
      "cell_type": "code",
      "metadata": {
        "colab": {
          "base_uri": "https://localhost:8080/"
        },
        "id": "lNP_4tt70wuX",
        "outputId": "1ec35305-2eac-4fa8-974b-6dfb821923a9"
      },
      "source": [
        "initial_cost = multinomial_logreg_loss_i(X, W, y_hot)\n",
        "initial_cost"
      ],
      "execution_count": 156,
      "outputs": [
        {
          "output_type": "execute_result",
          "data": {
            "text/plain": [
              "array([2.30258509, 2.30258509, 2.30258509, ..., 2.30258509, 2.30258509,\n",
              "       2.30258509])"
            ]
          },
          "metadata": {
            "tags": []
          },
          "execution_count": 156
        }
      ]
    },
    {
      "cell_type": "code",
      "metadata": {
        "id": "CcaznB540uXt"
      },
      "source": [
        "def predict(X, W):\n",
        "    \n",
        "    # X --> Input.\n",
        "    # w --> weights.\n",
        "  \n",
        "    # Predicting\n",
        "    z = X @ W\n",
        "    y_predict = softmax(z)\n",
        "    \n",
        "    # Returning the class with highest probability.\n",
        "    return np.argmax(y_predict, axis=1)"
      ],
      "execution_count": 163,
      "outputs": []
    },
    {
      "cell_type": "code",
      "metadata": {
        "colab": {
          "base_uri": "https://localhost:8080/"
        },
        "id": "Sc1L9atueGSU",
        "outputId": "620b9696-a2f3-49db-f803-b82997f40c53"
      },
      "source": [
        "train_predict = predict(X, W_optimal)\n",
        "print(train_predict)\n",
        "print(train_y)"
      ],
      "execution_count": 167,
      "outputs": [
        {
          "output_type": "stream",
          "text": [
            "[5 0 4 ... 5 6 8]\n",
            "[5 0 4 ... 5 6 8]\n"
          ],
          "name": "stdout"
        }
      ]
    },
    {
      "cell_type": "code",
      "metadata": {
        "colab": {
          "base_uri": "https://localhost:8080/"
        },
        "id": "1rG-mIdmeLGZ",
        "outputId": "2311af40-db89-4e39-b592-4949e8ac2438"
      },
      "source": [
        "# Flattening and normalizing.\n",
        "X_test = test_X.reshape(10000,28*28)\n",
        "X_test = X_test/255\n",
        "m = X_test.shape[0]\n",
        "X_test = np.hstack( (np.ones((m, 1)), X_test) )\n",
        "X_test.shape"
      ],
      "execution_count": 174,
      "outputs": [
        {
          "output_type": "execute_result",
          "data": {
            "text/plain": [
              "(10000, 785)"
            ]
          },
          "metadata": {
            "tags": []
          },
          "execution_count": 174
        }
      ]
    },
    {
      "cell_type": "code",
      "metadata": {
        "colab": {
          "base_uri": "https://localhost:8080/"
        },
        "id": "cVB9WPsWego7",
        "outputId": "4dbd55b8-7fb4-4dd6-c9af-5474928eb7f2"
      },
      "source": [
        "test_predict = predict(X_test, W_optimal)\n",
        "test_predict.shape"
      ],
      "execution_count": 199,
      "outputs": [
        {
          "output_type": "execute_result",
          "data": {
            "text/plain": [
              "(10000,)"
            ]
          },
          "metadata": {
            "tags": []
          },
          "execution_count": 199
        }
      ]
    },
    {
      "cell_type": "code",
      "metadata": {
        "id": "AbeZZhC0l4Wm"
      },
      "source": [
        "plt.plot(x = )"
      ],
      "execution_count": null,
      "outputs": []
    },
    {
      "cell_type": "code",
      "metadata": {
        "colab": {
          "base_uri": "https://localhost:8080/"
        },
        "id": "zkXQMdqRlt0t",
        "outputId": "df6ca4b1-7ef7-4113-a669-6348aae3b463"
      },
      "source": [
        "len(J_history)"
      ],
      "execution_count": 209,
      "outputs": [
        {
          "output_type": "execute_result",
          "data": {
            "text/plain": [
              "100"
            ]
          },
          "metadata": {
            "tags": []
          },
          "execution_count": 209
        }
      ]
    },
    {
      "cell_type": "code",
      "metadata": {
        "colab": {
          "base_uri": "https://localhost:8080/",
          "height": 283
        },
        "id": "mNTig9A5mFRD",
        "outputId": "47a1b0b9-078a-44f1-c012-89434bda1195"
      },
      "source": [
        "plt.scatter(x = x_range, y = J_history)\n"
      ],
      "execution_count": 213,
      "outputs": [
        {
          "output_type": "execute_result",
          "data": {
            "text/plain": [
              "<matplotlib.collections.PathCollection at 0x7f102aba5390>"
            ]
          },
          "metadata": {
            "tags": []
          },
          "execution_count": 213
        },
        {
          "output_type": "display_data",
          "data": {
            "image/png": "[encoded data removed]",
            "text/plain": [
              "<Figure size 432x288 with 1 Axes>"
            ]
          },
          "metadata": {
            "tags": [],
            "needs_background": "light"
          }
        }
      ]
    },
    {
      "cell_type": "code",
      "metadata": {
        "colab": {
          "base_uri": "https://localhost:8080/"
        },
        "id": "HrKf8j53l89c",
        "outputId": "b545ebe0-6ddf-49e0-8c51-10344b2651f7"
      },
      "source": [
        "x_range = [i for i in range(100)]\n",
        "len(x_range)"
      ],
      "execution_count": 211,
      "outputs": [
        {
          "output_type": "execute_result",
          "data": {
            "text/plain": [
              "100"
            ]
          },
          "metadata": {
            "tags": []
          },
          "execution_count": 211
        }
      ]
    },
    {
      "cell_type": "code",
      "metadata": {
        "colab": {
          "base_uri": "https://localhost:8080/",
          "height": 1000
        },
        "id": "JTdLsMameyAG",
        "outputId": "3a863c46-4c3c-40ca-ca81-a9059cb9c8e8"
      },
      "source": [
        "fig = plt.figure(figsize=(15, 20))\n",
        "\n",
        "for i in range(40):  \n",
        "    ax = fig.add_subplot(8, 5, i+1)\n",
        "    ax.imshow(test_X[i], cmap=plt.get_cmap('gray'))\n",
        "    \n",
        "    ax.set_title('Actual: {actual} - Predict: {predict}'.format(actual=test_y[i], predict = test_predict[i]))\n",
        "    plt.axis('off')\n"
      ],
      "execution_count": 206,
      "outputs": [
        {
          "output_type": "display_data",
          "data": {
            "image/png": "[encoded data removed]",
            "text/plain": [
              "<Figure size 1080x1440 with 40 Axes>"
            ]
          },
          "metadata": {
            "tags": [],
            "needs_background": "light"
          }
        }
      ]
    },
    {
      "cell_type": "code",
      "metadata": {
        "id": "hLwuxSV7jX1t"
      },
      "source": [
        ""
      ],
      "execution_count": null,
      "outputs": []
    },
    {
      "cell_type": "code",
      "metadata": {
        "id": "5_IRIz3uf29U"
      },
      "source": [
        ""
      ],
      "execution_count": null,
      "outputs": []
    }
  ]
}