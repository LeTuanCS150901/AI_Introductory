{
 "cells": [
  {
   "cell_type": "markdown",
   "metadata": {},
   "source": [
    "# Bài 1: Đổ nước"
   ]
  },
  {
   "cell_type": "code",
   "execution_count": 65,
   "metadata": {},
   "outputs": [],
   "source": [
    "def nextStates(current_state):\n",
    "    \n",
    "        \"\"\" \n",
    "        This function will returns a list of states \n",
    "        we can choose to search for next state with  \n",
    "        max Capacity of each state (x, y, z) = (3, 8 ,12)\n",
    "        \n",
    "        \"\"\"     \n",
    "        x, y, z = current_state\n",
    "     \n",
    "        states = [ (3, y, z), (x, 8, z), (x, y, 12), (0, y, z), (x, 0, z), (x, y, 0) ]\n",
    "        \n",
    "        # pour water from the 3l container\n",
    "        if x > 0:    \n",
    "            \n",
    "           # Pour everything from the 3 liter to the 8 liter one\n",
    "            if x+y <= 8:\n",
    "                states = states + [ (0, x+y, z ) ] \n",
    "            else:\n",
    "                states = states + [ (x-(8-y), 8, z) ] # fill 8l container from the 3 liter one\n",
    "\n",
    "            # Pour everything from the 3 liter  container to the 12 liter one\n",
    "            if x+z <= 12:\n",
    "                states = states + [ (0, y, x+z) ]\n",
    "            else:\n",
    "                states = states + [ (x-(12-z), y, 12) ] # fill 12l container from the 3 liter one\n",
    "                \n",
    "        # pour water from the 8l container         \n",
    "        if y > 0:\n",
    "            \n",
    "            # pour everything from the 8l container to the 3l container\n",
    "            if x + y <= 3:\n",
    "                states = states + [ (x+y, 0, z) ]\n",
    "            else:\n",
    "                states = states + [ (3, y-(3-x), z)] # fill 3l container from the 8 liter one\n",
    "                \n",
    "            # pour everything from the 8l container to the 12l container\n",
    "            if y + z <= 12:\n",
    "                states = states + [ (x, 0, y + z) ]\n",
    "            else:\n",
    "                states = states + [ (x, y-(12-z), 12)] # fill 12l container from the 8 liter one\n",
    "                \n",
    "        # pour water from the 12l container        \n",
    "        if z > 0:\n",
    "            \n",
    "            # pour everything from the 12l container to the 8l container\n",
    "            if x+z <= 3:\n",
    "                states = states + [ (x+z, y, 0) ]\n",
    "            else:\n",
    "                states = states + [ ( 3, y, z-(3-x) ) ] # fill 3l container from the 12 liter one\n",
    "            \n",
    "            # pour everything from the 12l container to the 8l container\n",
    "            if x + z <= 8:\n",
    "                states = states + [ (x, y+z, 0)]\n",
    "            else:\n",
    "                states = states + [ (x, 8, z - (8-y))] # fill 8l container from the 12 liter one\n",
    "                \n",
    "                    \n",
    "        # Remove duplicate states\n",
    "        return set(states)"
   ]
  },
  {
   "cell_type": "code",
   "execution_count": 76,
   "metadata": {},
   "outputs": [],
   "source": [
    "def breadth_first_search(start_vertex, end):\n",
    "    \n",
    "    # creating a first in first out queue to store all the nodes for BFS and path for traceback\n",
    "    queue = [(start_vertex, [start_vertex])]\n",
    "    path = []\n",
    "    \n",
    "    # initialize set for storing already visited nodes\n",
    "    visited = set()\n",
    "    \n",
    "    # check if queue not empty\n",
    "    while queue:\n",
    "        \n",
    "        vertex, path = queue.pop(0)\n",
    "        visited.add(vertex)\n",
    "        \n",
    "        # loop through all adjacent nodes and check if we reached end\n",
    "        for node in nextStates(vertex):\n",
    "            \n",
    "            if (node[0] == end or node[1] == end or node[2] == end):\n",
    "                return path + [node]\n",
    "            \n",
    "            else:     \n",
    "                  if node not in visited:\n",
    "                    visited.add(node)\n",
    "                    queue.append((node, path + [node]))"
   ]
  },
  {
   "cell_type": "code",
   "execution_count": 77,
   "metadata": {
    "scrolled": false
   },
   "outputs": [
    {
     "data": {
      "text/plain": [
       "[(0, 0, 0), (0, 0, 12), (0, 8, 4), (3, 8, 1)]"
      ]
     },
     "execution_count": 77,
     "metadata": {},
     "output_type": "execute_result"
    }
   ],
   "source": [
    "result = breadth_first_search((0, 0, 0), 1)\n",
    "result\n"
   ]
  },
  {
   "cell_type": "markdown",
   "metadata": {},
   "source": [
    "# Bài 2: Nhà truyền giáo và kẻ ăn thịt qua sông"
   ]
  },
  {
   "cell_type": "code",
   "execution_count": 26,
   "metadata": {},
   "outputs": [],
   "source": [
    "def possible_Moves():\n",
    "    \n",
    "        ''' return all possible moves in the game as tuples\n",
    "        possible moves:\n",
    "        \n",
    "        '''\n",
    "\n",
    "        moves = [(1, 0), (2, 0), (0, 1), (0, 2), (1, 1)]\n",
    "        return moves\n",
    "    \n",
    "def is_Valid(state):\n",
    "    \n",
    "        monsters = state[0]\n",
    "        people = state[1]\n",
    "        \n",
    "        if monsters < 0 or monster > 3: \n",
    "            return False\n",
    "        \n",
    "        elif people < 0 or people > 3:\n",
    "            return False\n",
    "          \n",
    "        return True\n",
    "         \n",
    "def is_Solution(state):\n",
    "    \n",
    "    if state == (0, 0, 0):\n",
    "        return True\n",
    "    return False\n",
    "\n",
    " \n",
    "def is_Failure(state):\n",
    "    \n",
    "        monsters = state[0]\n",
    "        people = state[1]\n",
    "        boat = state[2]\n",
    "        \n",
    "        ### if people on the right side and more monsters than people\n",
    "        if people > 0 and people < monsters:\n",
    "            return True\n",
    "        \n",
    "        ## the number of people on the left side\n",
    "        people_on_the_left = 3 - people\n",
    "        monsters_on_the_left = 3 - monsters\n",
    "        \n",
    "         ### if people on the left side and more monsters than people\n",
    "        if people_on_the_left > 0 and people_on_the_left <  monsters_on_the_left:\n",
    "            return True\n",
    "        \n",
    "        return False"
   ]
  }
 ],
 "metadata": {
  "kernelspec": {
   "display_name": "Python 3",
   "language": "python",
   "name": "python3"
  },
  "language_info": {
   "codemirror_mode": {
    "name": "ipython",
    "version": 3
   },
   "file_extension": ".py",
   "mimetype": "text/x-python",
   "name": "python",
   "nbconvert_exporter": "python",
   "pygments_lexer": "ipython3",
   "version": "3.8.3"
  }
 },
 "nbformat": 4,
 "nbformat_minor": 4
}
